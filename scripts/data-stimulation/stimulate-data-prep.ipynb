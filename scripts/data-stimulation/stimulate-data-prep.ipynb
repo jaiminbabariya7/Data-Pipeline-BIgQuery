{
  "nbformat": 4,
  "nbformat_minor": 0,
  "metadata": {
    "colab": {
      "name": "Untitled notebook",
      "cell_execution_strategy": "setup",
      "provenance": []
    },
    "kernelspec": {
      "name": "python3",
      "display_name": "Python 3"
    },
    "language_info": {
      "name": "python"
    }
  },
  "cells": [
    {
      "cell_type": "code",
      "source": [
        "import pandas as pd\n",
        "import numpy as np\n",
        "from datetime import datetime, timedelta\n",
        "import os\n",
        "\n",
        "# Directory to save the CSV files\n",
        "output_dir = \"sample_data\"\n",
        "os.makedirs(output_dir, exist_ok=True)\n",
        "\n",
        "# Generate sample sales data\n",
        "dates = pd.date_range(start=\"2023-01-01\", end=\"2023-12-31\")\n",
        "product_ids = np.arange(1, 101)  # 100 products\n",
        "customer_ids = np.arange(1, 501)  # 500 customers\n",
        "\n",
        "sales_data = []\n",
        "for date in dates:\n",
        "    for _ in range(np.random.randint(50, 100)):  # Random number of sales per day\n",
        "        sales_data.append([\n",
        "            date.strftime(\"%Y-%m-%d\"),\n",
        "            np.random.choice(product_ids),\n",
        "            np.random.choice(customer_ids),\n",
        "            np.random.randint(1, 10),  # quantity\n",
        "            np.random.uniform(10.0, 100.0)  # total_price\n",
        "        ])\n",
        "\n",
        "sales_df = pd.DataFrame(sales_data, columns=[\"date\", \"product_id\", \"customer_id\", \"quantity\", \"total_price\"])\n",
        "sales_df.to_csv(os.path.join(output_dir, \"sales.csv\"), index=False)\n",
        "\n",
        "# Generate sample product information\n",
        "products_data = []\n",
        "for product_id in product_ids:\n",
        "    products_data.append([\n",
        "        product_id,\n",
        "        f\"Product_{product_id}\",\n",
        "        np.random.choice([\"Category_A\", \"Category_B\", \"Category_C\"])\n",
        "    ])\n",
        "\n",
        "products_df = pd.DataFrame(products_data, columns=[\"product_id\", \"product_name\", \"category\"])\n",
        "products_df.to_csv(os.path.join(output_dir, \"products.csv\"), index=False)\n",
        "\n",
        "# Generate sample customer details\n",
        "customers_data = []\n",
        "for customer_id in customer_ids:\n",
        "    customers_data.append([\n",
        "        customer_id,\n",
        "        f\"Customer_{customer_id}\",\n",
        "        np.random.choice([\"Region_1\", \"Region_2\", \"Region_3\"])\n",
        "    ])\n",
        "\n",
        "customers_df = pd.DataFrame(customers_data, columns=[\"customer_id\", \"customer_name\", \"location\"])\n",
        "customers_df.to_csv(os.path.join(output_dir, \"customers.csv\"), index=False)\n"
      ],
      "metadata": {
        "id": "pZpnsGmgmSYX"
      },
      "execution_count": null,
      "outputs": []
    },
    {
      "cell_type": "code",
      "source": [],
      "metadata": {
        "id": "12_mUsJymUeN"
      },
      "execution_count": null,
      "outputs": []
    }
  ]
}